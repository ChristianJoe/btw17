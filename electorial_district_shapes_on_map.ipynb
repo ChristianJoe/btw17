{
 "cells": [
  {
   "cell_type": "markdown",
   "metadata": {},
   "source": [
    "# Wahlkreiskarten\n",
    "\n",
    "### Die hier erzeugten Karten dienen später im Wahlkreisfinder zur Orientierung und helfen bei der Auswahl eines Wahlkreises\n",
    "\n",
    "Dieses Notebook erzeugt Bilder der Wahlkreise, respektive mehrere Wahlkreise zusammen.\n",
    "\n",
    "Das entsprechende GeoJson entstammt den Repository\n",
    "\n"
   ]
  },
  {
   "cell_type": "code",
   "execution_count": 1,
   "metadata": {
    "collapsed": true
   },
   "outputs": [],
   "source": [
    "import json\n",
    "from descartes import PolygonPatch\n",
    "import matplotlib.pyplot as plt\n",
    "from mpl_toolkits.basemap import Basemap\n",
    "import numpy as np\n",
    "import matplotlib.pyplot as plt\n",
    "from matplotlib.patches import Polygon\n",
    "import gmplot\n",
    "from selenium import webdriver "
   ]
  },
  {
   "cell_type": "code",
   "execution_count": 2,
   "metadata": {
    "collapsed": true
   },
   "outputs": [],
   "source": [
    "# Colors of the different parties. Used to mark the boundaries in the leading color\n",
    "color_dict = {\n",
    "    \"Sonstige\": \"grey\",\n",
    "    \"DIE LINKE\" :  \"#96276E\",\n",
    "    \"FDP\":\"#F6BB00\",\n",
    "    \"AfD\":\"#34A3D2\",\n",
    "    \"SPD\":\"#DB4240\",\n",
    "    \"CSU\":\"#373737\",\n",
    "    \"CDU\":\"#373737\",\n",
    "    \"CDU/CSU\": '#373737',\n",
    "    \"GRÜNE\":\"#4BA345\",\n",
    "    \"PIRATE\": \"#FF8800\"\n",
    "}"
   ]
  },
  {
   "cell_type": "code",
   "execution_count": 3,
   "metadata": {
    "collapsed": true
   },
   "outputs": [],
   "source": [
    "# Open files used to create polygones\n",
    "with open(\"wahlkreise.geojson.txt\") as json_file:\n",
    "    datawk = json.load(json_file) # or geojson.load(json_file)\n",
    "    \n",
    "with open('wahlkreis_info.json') as f:\n",
    "    wkinfo = json.load(f)"
   ]
  },
  {
   "cell_type": "markdown",
   "metadata": {},
   "source": [
    "This part creates an html file based on googlemaps. It plots multigon shapes"
   ]
  },
  {
   "cell_type": "code",
   "execution_count": 4,
   "metadata": {},
   "outputs": [],
   "source": [
    "for nr in range(0,299):\n",
    "    \n",
    "    #get some info ( it think, i did not use these)\n",
    "    list_plz = wkinfo['districts'][nr]['plz']\n",
    "    wk_name = wkinfo['districts'][nr]['district']\n",
    "    wk_nr = wkinfo['districts'][nr]['district_id']\n",
    "    party_color = wkinfo['districts'][nr]['election_13']\n",
    "    party_color['wahlbeteiligung'] = 0\n",
    "    color_bound = color_dict[max(party_color, key=party_color.get)]\n",
    "    \n",
    "        \n",
    "    ploywk = datawk['features'][nr]['geometry']\n",
    "    xma = 0\n",
    "    xmi = 100\n",
    "    yma = 0\n",
    "    ymi = 100\n",
    "    for item1 in ploywk['coordinates']:\n",
    "        for item3 in item1:\n",
    "            try:\n",
    "                #for item3 in item2 polygon:\n",
    "                if item3[0] > xma:\n",
    "                    xma = item3[0]\n",
    "                if item3[0] < xmi:\n",
    "                    xmi = item3[0]\n",
    "                if item3[1] > yma:\n",
    "                    yma = item3[1]\n",
    "                if item3[1] < ymi:\n",
    "                    ymi = item3[1]\n",
    "            except:\n",
    "                # multigon\n",
    "                item2 = item3\n",
    "                for item3 in item2:\n",
    "                    if item3[0] > xma:\n",
    "                        xma = item3[0]\n",
    "                    if item3[0] < xmi:\n",
    "                        xmi = item3[0]\n",
    "                    if item3[1] > yma:\n",
    "                        yma = item3[1]\n",
    "                    if item3[1] < ymi:\n",
    "                        ymi = item3[1]\n",
    "    #set up the box for taking into account few percent space to the boarders\n",
    "    adjustx = 0.05*(xma-xmi)\n",
    "    adjusty = 0.05*(yma-ymi)\n",
    "    centerx = (xma+xmi)/2\n",
    "    centery= (yma+ymi)/2\n",
    "    bound_box = [xmi-adjustx, xma+adjustx, ymi-adjusty, yma+adjusty]\n",
    "\n",
    "    # fix zoom-level in google maps\n",
    "    xlen = xma-xmi\n",
    "    ylen = yma-ymi\n",
    "    if xlen < 0.45 and ylen < 0.175:\n",
    "        zoom = 12\n",
    "    elif xlen< 0.9 and ylen < 0.35:\n",
    "        zoom = 11\n",
    "    elif xlen < 1.9 and ylen < 0.7:\n",
    "        zoom = 10\n",
    "    elif xlen < 3.7 and ylen < 1.4:\n",
    "        zoom = 9\n",
    "    else:\n",
    "        zoom = 8\n",
    "    \n",
    "    # create google map\n",
    "    gmap = gmplot.GoogleMapPlotter(centery, centerx, zoom)\n",
    "\n",
    "    \n",
    "    polywk = datawk['features'][nr]['geometry']\n",
    "    coords_all = polywk['coordinates']\n",
    "    try:\n",
    "        #multigon\n",
    "        for coords in coords_all:\n",
    "            x = [i for i,j in coords[0]]\n",
    "            y = [j for i,j in coords[0]]\n",
    "            #xm,ym = m(x,y)\n",
    "            gmap.plot(y, x, color = color_bound, edge_width=10)\n",
    "    except:\n",
    "        #polygon\n",
    "        coords = coords_all\n",
    "        x = [i for i,j in coords[0]]\n",
    "        y = [j for i,j in coords[0]]\n",
    "        gmap.plot(y, x, color = color_bound, edge_width=10)\n",
    "        \n",
    "    #Safe as html\n",
    "    gmap.draw(\"./fig/wk\"+str(nr+1)+\".html\")"
   ]
  },
  {
   "cell_type": "markdown",
   "metadata": {
    "scrolled": true
   },
   "source": [
    "This part opens the html file and takes a screenshot"
   ]
  },
  {
   "cell_type": "code",
   "execution_count": 5,
   "metadata": {},
   "outputs": [
    {
     "ename": "NameError",
     "evalue": "name 'Path' is not defined",
     "output_type": "error",
     "traceback": [
      "\u001b[0;31m---------------------------------------------------------------------------\u001b[0m",
      "\u001b[0;31mNameError\u001b[0m                                 Traceback (most recent call last)",
      "\u001b[0;32m<ipython-input-5-e57f280c0308>\u001b[0m in \u001b[0;36m<module>\u001b[0;34m()\u001b[0m\n\u001b[1;32m      2\u001b[0m \u001b[0;34m\u001b[0m\u001b[0m\n\u001b[1;32m      3\u001b[0m     \u001b[0;31m# get the name into the right format\u001b[0m\u001b[0;34m\u001b[0m\u001b[0;34m\u001b[0m\u001b[0m\n\u001b[0;32m----> 4\u001b[0;31m     \u001b[0mtemp_name\u001b[0m \u001b[0;34m=\u001b[0m \u001b[0mPath\u001b[0m\u001b[0;34m/\u001b[0m\u001b[0;34m'wk'\u001b[0m\u001b[0;34m+\u001b[0m\u001b[0mstr\u001b[0m\u001b[0;34m(\u001b[0m\u001b[0mnr\u001b[0m\u001b[0;34m)\u001b[0m\u001b[0;34m+\u001b[0m\u001b[0;34m'.html'\u001b[0m\u001b[0;34m\u001b[0m\u001b[0m\n\u001b[0m\u001b[1;32m      5\u001b[0m \u001b[0;34m\u001b[0m\u001b[0m\n\u001b[1;32m      6\u001b[0m     \u001b[0;31m# open in webpage\u001b[0m\u001b[0;34m\u001b[0m\u001b[0;34m\u001b[0m\u001b[0m\n",
      "\u001b[0;31mNameError\u001b[0m: name 'Path' is not defined"
     ]
    }
   ],
   "source": [
    "for nr in range(0,299):\n",
    "\n",
    "    # get the name into the right format\n",
    "    temp_name = '.fig/wk'+str(nr)+'.html'\n",
    "\n",
    "    # open in webpage\n",
    "    driver = webdriver.PhantomJS()\n",
    "    driver.set_window_size(1280,800) # set the window size that you need \n",
    "    driver.get(temp_name)\n",
    "    # BUILD SOMETHING, SUCH THAT IT WAITS TILL PAGE IS FULLY LOADED\n",
    "    save_name = 'wk'+str(nr)+'.png'       \n",
    "    driver.save_screenshot('./fig/'+save_name)\n",
    "    driver.quit()\n"
   ]
  },
  {
   "cell_type": "markdown",
   "metadata": {},
   "source": [
    "Done. Thx."
   ]
  }
 ],
 "metadata": {
  "kernelspec": {
   "display_name": "Python 3",
   "language": "python",
   "name": "python3"
  },
  "language_info": {
   "codemirror_mode": {
    "name": "ipython",
    "version": 3
   },
   "file_extension": ".py",
   "mimetype": "text/x-python",
   "name": "python",
   "nbconvert_exporter": "python",
   "pygments_lexer": "ipython3",
   "version": "3.6.0"
  }
 },
 "nbformat": 4,
 "nbformat_minor": 2
}
